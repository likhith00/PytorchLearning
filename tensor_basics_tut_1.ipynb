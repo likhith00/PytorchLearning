{
 "cells": [
  {
   "cell_type": "code",
   "execution_count": 1,
   "metadata": {},
   "outputs": [],
   "source": [
    "import torch"
   ]
  },
  {
   "cell_type": "markdown",
   "metadata": {},
   "source": [
    "#### some basic functions to create tensors\n",
    "\n",
    "1. torch.empty()\n",
    "2. torch.zeros()\n",
    "3. torch.ones()\n",
    "4. torch.rand()"
   ]
  },
  {
   "cell_type": "code",
   "execution_count": 3,
   "metadata": {},
   "outputs": [
    {
     "name": "stdout",
     "output_type": "stream",
     "text": [
      "tensor([1.0102e-38])\n"
     ]
    }
   ],
   "source": [
    "x = torch.empty(1) \n",
    "print(x) # prints empty Tensor"
   ]
  },
  {
   "cell_type": "code",
   "execution_count": 4,
   "metadata": {},
   "outputs": [
    {
     "name": "stdout",
     "output_type": "stream",
     "text": [
      "tensor([0., 0., 0.])\n"
     ]
    }
   ],
   "source": [
    "x = torch.empty(3)\n",
    "print(x) # prints empty tensor (1 D vector) with 3 elements "
   ]
  },
  {
   "cell_type": "code",
   "execution_count": 5,
   "metadata": {},
   "outputs": [
    {
     "name": "stdout",
     "output_type": "stream",
     "text": [
      "tensor([[7.1466e-44, 6.8664e-44, 1.1771e-43],\n",
      "        [6.7262e-44, 7.7071e-44, 8.1275e-44]])\n"
     ]
    }
   ],
   "source": [
    "x = torch.empty(2,3)\n",
    "print(x) #2D tensor"
   ]
  },
  {
   "cell_type": "code",
   "execution_count": 7,
   "metadata": {},
   "outputs": [
    {
     "name": "stdout",
     "output_type": "stream",
     "text": [
      "tensor([[[1.6706e-07, 3.3091e+21],\n",
      "         [8.2288e-10, 5.4365e+22]],\n",
      "\n",
      "        [[2.6730e-06, 8.1725e+20],\n",
      "         [5.2301e+22, 6.7352e+22]]])\n"
     ]
    }
   ],
   "source": [
    "x = torch.empty(2,2,2)\n",
    "print(x)"
   ]
  },
  {
   "cell_type": "code",
   "execution_count": 8,
   "metadata": {},
   "outputs": [
    {
     "name": "stdout",
     "output_type": "stream",
     "text": [
      "tensor([[0.9058, 0.7368],\n",
      "        [0.7349, 0.7836]])\n"
     ]
    }
   ],
   "source": [
    "X = torch.rand(2,2) # random tensor\n",
    "print(X)"
   ]
  },
  {
   "cell_type": "code",
   "execution_count": 9,
   "metadata": {},
   "outputs": [
    {
     "name": "stdout",
     "output_type": "stream",
     "text": [
      "tensor([[0., 0.],\n",
      "        [0., 0.]])\n"
     ]
    }
   ],
   "source": [
    "X = torch.zeros(2,2) \n",
    "print(X)\n"
   ]
  },
  {
   "cell_type": "code",
   "execution_count": 12,
   "metadata": {},
   "outputs": [
    {
     "name": "stdout",
     "output_type": "stream",
     "text": [
      "tensor([[1., 1.],\n",
      "        [1., 1.]])\n",
      "torch.float32\n"
     ]
    }
   ],
   "source": [
    "X = torch.ones(2,2)\n",
    "print(X)\n",
    "print(X.dtype)"
   ]
  },
  {
   "cell_type": "code",
   "execution_count": 14,
   "metadata": {},
   "outputs": [
    {
     "name": "stdout",
     "output_type": "stream",
     "text": [
      "tensor([[1., 1.],\n",
      "        [1., 1.]], dtype=torch.float16)\n",
      "torch.float16\n",
      "torch.Size([2, 2])\n"
     ]
    }
   ],
   "source": [
    "X = torch.ones(2,2, dtype=torch.float16)\n",
    "print(X)\n",
    "print(X.dtype)\n",
    "print(X.size())"
   ]
  },
  {
   "cell_type": "markdown",
   "metadata": {},
   "source": [
    "#### Create Tensor with List"
   ]
  },
  {
   "cell_type": "code",
   "execution_count": 15,
   "metadata": {},
   "outputs": [
    {
     "name": "stdout",
     "output_type": "stream",
     "text": [
      "tensor([2.4000, 2.1000, 3.5000])\n"
     ]
    }
   ],
   "source": [
    "X = torch.tensor([2.4,2.1,3.5])\n",
    "print(X)"
   ]
  },
  {
   "cell_type": "markdown",
   "metadata": {},
   "source": [
    "### addition"
   ]
  },
  {
   "cell_type": "code",
   "execution_count": 19,
   "metadata": {},
   "outputs": [
    {
     "name": "stdout",
     "output_type": "stream",
     "text": [
      "tensor([[0.2299, 0.7416],\n",
      "        [0.6373, 0.7987]])\n",
      "tensor([[0.5559, 0.4043],\n",
      "        [0.0948, 0.4070]])\n",
      "\n",
      "tensor([[0.7858, 1.1459],\n",
      "        [0.7321, 1.2057]])\n",
      "\n",
      "tensor([[0.7858, 1.1459],\n",
      "        [0.7321, 1.2057]])\n",
      "\n",
      "tensor([[0.7858, 1.1459],\n",
      "        [0.7321, 1.2057]])\n"
     ]
    }
   ],
   "source": [
    "x = torch.rand(2,2)\n",
    "y = torch.rand(2,2)\n",
    "print(x)\n",
    "print(y)\n",
    "print()\n",
    "z = x + y\n",
    "print(z)\n",
    "print()\n",
    "z = torch.add(x,y)\n",
    "print(z)\n",
    "print()\n",
    "\n",
    "y.add_(x) # modifies y and adds all elements of x to y \n",
    "print(y)"
   ]
  },
  {
   "cell_type": "markdown",
   "metadata": {},
   "source": [
    "### Subtraction"
   ]
  },
  {
   "cell_type": "code",
   "execution_count": 21,
   "metadata": {},
   "outputs": [
    {
     "name": "stdout",
     "output_type": "stream",
     "text": [
      "tensor([[ 0.2552, -0.2919],\n",
      "        [-0.3732, -0.2343]])\n",
      "tensor([[ 0.2552, -0.2919],\n",
      "        [-0.3732, -0.2343]])\n"
     ]
    }
   ],
   "source": [
    "x = torch.rand(2,2)\n",
    "y = torch.rand(2,2)\n",
    "\n",
    "z = x - y \n",
    "print(z)\n",
    "z = torch.sub(x, y)\n",
    "print(z)"
   ]
  },
  {
   "cell_type": "markdown",
   "metadata": {},
   "source": [
    "#### Multiplication"
   ]
  },
  {
   "cell_type": "code",
   "execution_count": 22,
   "metadata": {},
   "outputs": [
    {
     "name": "stdout",
     "output_type": "stream",
     "text": [
      "tensor([[0.6453, 0.5694],\n",
      "        [0.2821, 0.2822]])\n",
      "tensor([[0.6453, 0.5694],\n",
      "        [0.2821, 0.2822]])\n"
     ]
    }
   ],
   "source": [
    "z = x*y\n",
    "print(z)\n",
    "z = torch.mul(x,y)\n",
    "print(z)"
   ]
  },
  {
   "cell_type": "markdown",
   "metadata": {},
   "source": [
    "### Division"
   ]
  },
  {
   "cell_type": "code",
   "execution_count": 24,
   "metadata": {},
   "outputs": [
    {
     "name": "stdout",
     "output_type": "stream",
     "text": [
      "tensor([[1.3722, 0.6808],\n",
      "        [0.5021, 0.6456]])\n",
      "tensor([[1.3722, 0.6808],\n",
      "        [0.5021, 0.6456]])\n"
     ]
    }
   ],
   "source": [
    "z = x/y \n",
    "print(z)\n",
    "z = torch.div(x, y)\n",
    "print(z)"
   ]
  },
  {
   "cell_type": "code",
   "execution_count": 27,
   "metadata": {},
   "outputs": [
    {
     "name": "stdout",
     "output_type": "stream",
     "text": [
      "tensor([[0.9945, 0.6759, 0.8068],\n",
      "        [0.0287, 0.3793, 0.1793],\n",
      "        [0.8103, 0.7554, 0.9194],\n",
      "        [0.1871, 0.7763, 0.5077],\n",
      "        [0.8913, 0.4252, 0.3259]])\n",
      "tensor([0.9945, 0.0287, 0.8103, 0.1871, 0.8913])\n",
      "tensor([0.0287, 0.3793, 0.1793])\n",
      "tensor(0.3793)\n",
      "0.3793424367904663\n"
     ]
    }
   ],
   "source": [
    "import torch\n",
    "\n",
    "x = torch.rand(5,3)\n",
    "print(x)\n",
    "\n",
    "print(x[:,0]) # all rows but only 0th column\n",
    "print(x[1, :]) # row 1 but all columns\n",
    "print(x[1,1]) # tensor at position 1,1 \n",
    "print(x[1,1].item()) # tensor item at position 1,1"
   ]
  },
  {
   "cell_type": "markdown",
   "metadata": {},
   "source": [
    "### Reshaping Tensor"
   ]
  },
  {
   "cell_type": "code",
   "execution_count": 30,
   "metadata": {},
   "outputs": [
    {
     "name": "stdout",
     "output_type": "stream",
     "text": [
      "tensor([[0.3350, 0.2386, 0.3949, 0.4377],\n",
      "        [0.3131, 0.9794, 0.3765, 0.6301],\n",
      "        [0.9232, 0.0586, 0.6116, 0.6428],\n",
      "        [0.7178, 0.4789, 0.6671, 0.6051]])\n",
      "tensor([0.3350, 0.2386, 0.3949, 0.4377, 0.3131, 0.9794, 0.3765, 0.6301, 0.9232,\n",
      "        0.0586, 0.6116, 0.6428, 0.7178, 0.4789, 0.6671, 0.6051])\n",
      "torch.Size([16])\n",
      "tensor([[0.3350, 0.2386, 0.3949, 0.4377, 0.3131, 0.9794, 0.3765, 0.6301],\n",
      "        [0.9232, 0.0586, 0.6116, 0.6428, 0.7178, 0.4789, 0.6671, 0.6051]])\n",
      "torch.Size([2, 8])\n"
     ]
    }
   ],
   "source": [
    "import torch\n",
    "\n",
    "x = torch.rand(4,4)\n",
    "print(x)\n",
    "y = x.view(16)  # 1D\n",
    "print(y)\n",
    "print(y.size())\n",
    "z = x.view(-1, 8) # will determine the correct size\n",
    "print(z)\n",
    "print(z.size())"
   ]
  },
  {
   "cell_type": "markdown",
   "metadata": {},
   "source": [
    "### Converting the numpy array to tensor or vice versa"
   ]
  },
  {
   "cell_type": "code",
   "execution_count": 36,
   "metadata": {},
   "outputs": [
    {
     "name": "stdout",
     "output_type": "stream",
     "text": [
      "tensor([1., 1., 1., 1., 1.])\n",
      "[1. 1. 1. 1. 1.]\n",
      "<class 'numpy.ndarray'>\n",
      "\n",
      "tensor([2., 2., 2., 2., 2.])\n",
      "[2. 2. 2. 2. 2.]\n",
      "\n",
      "[1. 1. 1. 1. 1.]\n",
      "tensor([1., 1., 1., 1., 1.], dtype=torch.float64)\n",
      "[2. 2. 2. 2. 2.]\n",
      "tensor([2., 2., 2., 2., 2.], dtype=torch.float64)\n"
     ]
    }
   ],
   "source": [
    "import torch\n",
    "import numpy as np\n",
    "\n",
    "a = torch.ones(5)\n",
    "print(a)\n",
    "b = a.numpy() # converting tensor to numpy array\n",
    "print(b)\n",
    "print(type(b))\n",
    "print()\n",
    "\n",
    "a.add_(1) # adding 1 to each element in a\n",
    "print(a)\n",
    "print(b) # changes in a will change b as b points to a \n",
    "\n",
    "print()\n",
    "a = np.ones(5)\n",
    "print(a)\n",
    "b = torch.from_numpy(a)\n",
    "print(b)\n",
    "\n",
    "a += 1 \n",
    "print(a) # adding 1 to each element in a\n",
    "print(b)"
   ]
  },
  {
   "cell_type": "markdown",
   "metadata": {},
   "source": [
    "### Creating tensors on GPU"
   ]
  },
  {
   "cell_type": "code",
   "execution_count": 37,
   "metadata": {},
   "outputs": [],
   "source": [
    "if torch.cuda.is_available():\n",
    "    device = torch.device(\"cuda\")\n",
    "    x = torch.ones(5, device= device) # creating tensor directly on GPU device\n",
    "    y = torch.ones(5) # creating tensor first\n",
    "    y = y.to(device) # then moving it to device\n",
    "    z = x*y # tensor multiplication\n",
    "    z = z.to(\"cpu\") # moving tensor to cpu after computation"
   ]
  },
  {
   "cell_type": "code",
   "execution_count": 39,
   "metadata": {},
   "outputs": [
    {
     "name": "stdout",
     "output_type": "stream",
     "text": [
      "tensor([1., 1., 1., 1., 1.], requires_grad=True)\n"
     ]
    }
   ],
   "source": [
    "x = torch.ones(5, requires_grad = True) # It tells your tensor to calculate gradients in the optimization steps\n",
    "print(x)"
   ]
  },
  {
   "cell_type": "markdown",
   "metadata": {},
   "source": [
    "#### Summary\n",
    "\n",
    "1. Basic functions to create tensors\n",
    "2. Operations on tensors: add, sub, mul, div\n",
    "3. Reshaping the tensor\n",
    "4. Converting numpy array to tensor and vice versa\n",
    "5. Creating Tensors on GPU"
   ]
  },
  {
   "cell_type": "code",
   "execution_count": null,
   "metadata": {},
   "outputs": [],
   "source": []
  },
  {
   "cell_type": "code",
   "execution_count": null,
   "metadata": {},
   "outputs": [],
   "source": []
  },
  {
   "cell_type": "code",
   "execution_count": null,
   "metadata": {},
   "outputs": [],
   "source": []
  },
  {
   "cell_type": "code",
   "execution_count": null,
   "metadata": {},
   "outputs": [],
   "source": []
  }
 ],
 "metadata": {
  "kernelspec": {
   "display_name": ".venv",
   "language": "python",
   "name": "python3"
  },
  "language_info": {
   "codemirror_mode": {
    "name": "ipython",
    "version": 3
   },
   "file_extension": ".py",
   "mimetype": "text/x-python",
   "name": "python",
   "nbconvert_exporter": "python",
   "pygments_lexer": "ipython3",
   "version": "3.7.0"
  }
 },
 "nbformat": 4,
 "nbformat_minor": 2
}
