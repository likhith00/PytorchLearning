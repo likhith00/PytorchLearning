{
 "cells": [
  {
   "cell_type": "code",
   "execution_count": 1,
   "metadata": {},
   "outputs": [],
   "source": [
    "import torch"
   ]
  },
  {
   "cell_type": "code",
   "execution_count": 2,
   "metadata": {},
   "outputs": [
    {
     "name": "stdout",
     "output_type": "stream",
     "text": [
      "tensor([ 0.5887, -1.4111,  1.0695], requires_grad=True)\n"
     ]
    }
   ],
   "source": [
    "x = torch.randn(3, requires_grad = True) # Very important to mention requires_grad = True\n",
    "print(x)"
   ]
  },
  {
   "cell_type": "code",
   "execution_count": 3,
   "metadata": {},
   "outputs": [
    {
     "name": "stdout",
     "output_type": "stream",
     "text": [
      "\n",
      "tensor([2.5887, 0.5889, 3.0695], grad_fn=<AddBackward0>)\n",
      "\n",
      "tensor([13.4025,  0.6935, 18.8436], grad_fn=<MulBackward0>)\n",
      "\n",
      "tensor(10.9799, grad_fn=<MeanBackward0>)\n"
     ]
    }
   ],
   "source": [
    "print()\n",
    "y = x + 2\n",
    "print(y)\n",
    "\n",
    "print()\n",
    "z = y*y*2\n",
    "print(z)\n",
    "\n",
    "print()\n",
    "z = z.mean()\n",
    "print(z)"
   ]
  },
  {
   "cell_type": "code",
   "execution_count": 4,
   "metadata": {},
   "outputs": [
    {
     "name": "stdout",
     "output_type": "stream",
     "text": [
      "tensor([3.4516, 0.7851, 4.0927])\n"
     ]
    }
   ],
   "source": [
    "z.backward()  # dz/dx\n",
    "print(x.grad) "
   ]
  },
  {
   "cell_type": "code",
   "execution_count": 5,
   "metadata": {},
   "outputs": [
    {
     "data": {
      "text/plain": [
       "tensor([3.4516, 0.7851, 4.0927])"
      ]
     },
     "execution_count": 5,
     "metadata": {},
     "output_type": "execute_result"
    }
   ],
   "source": [
    "x.grad"
   ]
  },
  {
   "cell_type": "markdown",
   "metadata": {},
   "source": [
    "#### gradient is calculated on scalar values. if there is more than 1 value in the tensor, then we have to create a vector of same size."
   ]
  },
  {
   "cell_type": "code",
   "execution_count": 8,
   "metadata": {},
   "outputs": [
    {
     "name": "stdout",
     "output_type": "stream",
     "text": [
      "tensor([0.9884, 0.9265, 0.3388], requires_grad=True)\n",
      "\n",
      "tensor([2.9884, 2.9265, 2.3388], grad_fn=<AddBackward0>)\n",
      "\n",
      "tensor([17.8607, 17.1286, 10.9400], grad_fn=<MulBackward0>)\n",
      "tensor([1.1953e+00, 1.1706e+01, 9.3552e-03])\n"
     ]
    }
   ],
   "source": [
    "x = torch.randn(3, requires_grad = True) # Very important to mention requires_grad = True\n",
    "print(x)\n",
    "\n",
    "print()\n",
    "y = x + 2\n",
    "print(y)\n",
    "\n",
    "print()\n",
    "z = y*y*2\n",
    "print(z)\n",
    "\n",
    "v = torch.tensor([0.1, 1.0,0.001], dtype = torch.float32)\n",
    "\n",
    "z.backward(v)  # dz/dx\n",
    "print(x.grad) "
   ]
  },
  {
   "cell_type": "markdown",
   "metadata": {},
   "source": [
    "### Preventing Pytorch from storing gradient history\n",
    "\n",
    "1. x.requies.grad_(False)\n",
    "2. x.detach()\n",
    "3. with torch.no_grad()"
   ]
  },
  {
   "cell_type": "code",
   "execution_count": 9,
   "metadata": {},
   "outputs": [
    {
     "name": "stdout",
     "output_type": "stream",
     "text": [
      "tensor([ 0.2794, -0.1959, -0.1313], requires_grad=True)\n",
      "tensor([ 0.2794, -0.1959, -0.1313])\n"
     ]
    }
   ],
   "source": [
    "x = torch.randn(3, requires_grad = True)\n",
    "print(x)\n",
    "x.requires_grad_(False)\n",
    "print(x)"
   ]
  },
  {
   "cell_type": "code",
   "execution_count": 11,
   "metadata": {},
   "outputs": [
    {
     "name": "stdout",
     "output_type": "stream",
     "text": [
      "tensor([0.1599, 1.2845, 1.1861], requires_grad=True)\n",
      "tensor([0.1599, 1.2845, 1.1861])\n"
     ]
    }
   ],
   "source": [
    "x = torch.randn(3, requires_grad = True)\n",
    "print(x)\n",
    "y = x.detach()\n",
    "print(y)"
   ]
  },
  {
   "cell_type": "code",
   "execution_count": 12,
   "metadata": {},
   "outputs": [
    {
     "name": "stdout",
     "output_type": "stream",
     "text": [
      "tensor([ 1.3507,  0.8644, -1.4195], requires_grad=True)\n",
      "tensor([3.3507, 2.8644, 0.5805])\n"
     ]
    }
   ],
   "source": [
    "x = torch.randn(3, requires_grad = True)\n",
    "print(x)\n",
    "with torch.no_grad():\n",
    "    y = x + 2\n",
    "    print(y)"
   ]
  },
  {
   "cell_type": "markdown",
   "metadata": {},
   "source": [
    "Before we do next operation in optimization step, we have use weights.grad_zero_()\n",
    "\n",
    "reason from Groq:\n",
    "When you're training a model, the gradients of the weights are updated at each iteration. If you don't reset the gradients, they can accumulate and cause the model to diverge or converge to a suboptimal solution. By setting the gradients to zero, you ensure that the model starts from a clean slate at each iteration."
   ]
  },
  {
   "cell_type": "code",
   "execution_count": 17,
   "metadata": {},
   "outputs": [
    {
     "name": "stdout",
     "output_type": "stream",
     "text": [
      "tensor([3., 3., 3., 3.])\n",
      "tensor([6., 6., 6., 6.])\n",
      "tensor([9., 9., 9., 9.])\n",
      "\n",
      "tensor([3., 3., 3., 3.])\n",
      "tensor([3., 3., 3., 3.])\n",
      "tensor([3., 3., 3., 3.])\n"
     ]
    }
   ],
   "source": [
    "weights = torch.ones(4,requires_grad = True)\n",
    "\n",
    "for epoch in range(3):\n",
    "    model_output = (weights*3).sum()\n",
    "    \n",
    "    model_output.backward()\n",
    "\n",
    "    print(weights.grad)\n",
    "\n",
    "print()\n",
    "weights = torch.ones(4,requires_grad = True)\n",
    "for epoch in range(3):\n",
    "    model_output = (weights*3).sum()\n",
    "    \n",
    "    model_output.backward()\n",
    "\n",
    "    print(weights.grad)\n",
    "    \n",
    "    weights.grad.zero_()"
   ]
  },
  {
   "cell_type": "markdown",
   "metadata": {},
   "source": [
    "#### Summary\n",
    "\n",
    "1. If you want to compute the gradient, then use requires_grad = True while creating a tensor and use tensor.backward() to compute the gradient.\n",
    "2. if you want to prevent storing gradient, then use x.requies.grad_(False), x.detach() ,with torch.no_grad()\n",
    "3. If you don't reset the gradients, they can accumulate and cause the model to diverge or converge to a suboptimal solution. By setting the gradients to zero, you ensure that the model starts from a clean slate at each iteration. Use weights.grad.zero_()\n"
   ]
  },
  {
   "cell_type": "code",
   "execution_count": null,
   "metadata": {},
   "outputs": [],
   "source": []
  },
  {
   "cell_type": "code",
   "execution_count": null,
   "metadata": {},
   "outputs": [],
   "source": []
  }
 ],
 "metadata": {
  "kernelspec": {
   "display_name": ".venv",
   "language": "python",
   "name": "python3"
  },
  "language_info": {
   "codemirror_mode": {
    "name": "ipython",
    "version": 3
   },
   "file_extension": ".py",
   "mimetype": "text/x-python",
   "name": "python",
   "nbconvert_exporter": "python",
   "pygments_lexer": "ipython3",
   "version": "3.7.0"
  }
 },
 "nbformat": 4,
 "nbformat_minor": 2
}
